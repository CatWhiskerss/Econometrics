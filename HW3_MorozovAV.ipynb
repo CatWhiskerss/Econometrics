{
 "cells": [
  {
   "cell_type": "code",
   "execution_count": 1,
   "metadata": {},
   "outputs": [],
   "source": [
    "import numpy as np\n",
    "import pandas as pd\n",
    "import matplotlib.pyplot as plt\n",
    "%matplotlib inline\n",
    "\n",
    "import seaborn as sns\n",
    "sns.set(style=\"ticks\", color_codes=True)\n",
    "import math\n",
    "\n",
    "import sklearn.linear_model as slmodel\n",
    "from sklearn import datasets"
   ]
  },
  {
   "cell_type": "markdown",
   "metadata": {},
   "source": [
    "# 1. Примеры дамми-переменных"
   ]
  },
  {
   "cell_type": "markdown",
   "metadata": {},
   "source": [
    "1. Можно привести массу примеров подобных переменных при оценивании стоимости различной продукций, например, б/у - не б/у (для любых товаров), последняя модель - модель старшего поколения(в основном для электроники, автомобилей), импортное производство - отечественное и т.д.\n",
    "\n",
    "2. При моделировании вероятности заражения/заболевания какой-нибудь болезнью можно использовать параметры: делал прививку/не делал или проходил медобследование за последний год/не проходил.\n",
    "\n",
    "3. Прогноз успеваемости студента в сессию: посещал занятия/не посещал, сдавал дз/не сдавал, имел академический долг за последний семестр/не имел и т.п."
   ]
  },
  {
   "cell_type": "markdown",
   "metadata": {},
   "source": [
    "# 2. Гипотеза о незначимости регрессии"
   ]
  },
  {
   "cell_type": "markdown",
   "metadata": {},
   "source": [
    "Вернемся к таблице со статистикой заболеваемости Covid-19"
   ]
  },
  {
   "cell_type": "code",
   "execution_count": 2,
   "metadata": {},
   "outputs": [],
   "source": [
    "data = pd.read_csv('data.csv')\n",
    "data = data[['Страна', 'Всего случаев', 'Всего смертей', 'Сделано тестов', 'Население']][2:].reset_index(drop=True)\n",
    "\n",
    "data['Всего случаев'] = data['Всего случаев'].apply(lambda x: str(x).replace(' ', '')).astype(int)\n",
    "data['Всего смертей'] = data['Всего смертей'].apply(lambda x: str(x).replace(' ', '')).astype(int)\n",
    "data['Сделано тестов'] = data['Сделано тестов'].apply(lambda x: str(x).replace(' ', '')).astype(int)\n",
    "data['Население'] = data['Население'].apply(lambda x: str(x).replace(' ', '')).astype(int)"
   ]
  },
  {
   "cell_type": "code",
   "execution_count": 4,
   "metadata": {},
   "outputs": [
    {
     "data": {
      "text/html": [
       "<div>\n",
       "<style scoped>\n",
       "    .dataframe tbody tr th:only-of-type {\n",
       "        vertical-align: middle;\n",
       "    }\n",
       "\n",
       "    .dataframe tbody tr th {\n",
       "        vertical-align: top;\n",
       "    }\n",
       "\n",
       "    .dataframe thead th {\n",
       "        text-align: right;\n",
       "    }\n",
       "</style>\n",
       "<table border=\"1\" class=\"dataframe\">\n",
       "  <thead>\n",
       "    <tr style=\"text-align: right;\">\n",
       "      <th></th>\n",
       "      <th>Страна</th>\n",
       "      <th>Всего случаев</th>\n",
       "      <th>Всего смертей</th>\n",
       "      <th>Сделано тестов</th>\n",
       "      <th>Население</th>\n",
       "    </tr>\n",
       "  </thead>\n",
       "  <tbody>\n",
       "    <tr>\n",
       "      <td>0</td>\n",
       "      <td>Россия</td>\n",
       "      <td>362342</td>\n",
       "      <td>3807</td>\n",
       "      <td>9160590</td>\n",
       "      <td>145928655</td>\n",
       "    </tr>\n",
       "    <tr>\n",
       "      <td>1</td>\n",
       "      <td>Испания</td>\n",
       "      <td>283339</td>\n",
       "      <td>27117</td>\n",
       "      <td>3556567</td>\n",
       "      <td>46753098</td>\n",
       "    </tr>\n",
       "    <tr>\n",
       "      <td>2</td>\n",
       "      <td>Великобритания</td>\n",
       "      <td>265227</td>\n",
       "      <td>37048</td>\n",
       "      <td>3681295</td>\n",
       "      <td>67852019</td>\n",
       "    </tr>\n",
       "    <tr>\n",
       "      <td>3</td>\n",
       "      <td>Италия</td>\n",
       "      <td>230555</td>\n",
       "      <td>32955</td>\n",
       "      <td>3539927</td>\n",
       "      <td>60469988</td>\n",
       "    </tr>\n",
       "    <tr>\n",
       "      <td>4</td>\n",
       "      <td>Франция</td>\n",
       "      <td>182722</td>\n",
       "      <td>28530</td>\n",
       "      <td>1384633</td>\n",
       "      <td>65259974</td>\n",
       "    </tr>\n",
       "  </tbody>\n",
       "</table>\n",
       "</div>"
      ],
      "text/plain": [
       "           Страна  Всего случаев  Всего смертей  Сделано тестов  Население\n",
       "0          Россия         362342           3807         9160590  145928655\n",
       "1         Испания         283339          27117         3556567   46753098\n",
       "2  Великобритания         265227          37048         3681295   67852019\n",
       "3          Италия         230555          32955         3539927   60469988\n",
       "4         Франция         182722          28530         1384633   65259974"
      ]
     },
     "execution_count": 4,
     "metadata": {},
     "output_type": "execute_result"
    }
   ],
   "source": [
    "data.head()"
   ]
  },
  {
   "cell_type": "markdown",
   "metadata": {},
   "source": [
    "На этот раз рассмотрим модель зависимость смертей от кол-ва случаев, кол-ва проведенных тестов и численности населения страны"
   ]
  },
  {
   "cell_type": "code",
   "execution_count": 13,
   "metadata": {},
   "outputs": [],
   "source": [
    "y = data['Всего смертей'].values\n",
    "x = data[['Всего случаев', 'Население', 'Сделано тестов']].values"
   ]
  },
  {
   "cell_type": "code",
   "execution_count": 7,
   "metadata": {},
   "outputs": [
    {
     "data": {
      "text/plain": [
       "(-103.91472036813911,\n",
       " array([ 1.34047106e-01, -4.28807527e-06, -3.57657870e-03]))"
      ]
     },
     "execution_count": 7,
     "metadata": {},
     "output_type": "execute_result"
    }
   ],
   "source": [
    "model = slmodel.LinearRegression()\n",
    "model.fit(x, y)\n",
    "model.intercept_, model.coef_"
   ]
  },
  {
   "cell_type": "code",
   "execution_count": 25,
   "metadata": {},
   "outputs": [],
   "source": [
    "# Параметры данной модели:\n",
    "n = len(data)\n",
    "k = 4\n",
    "# уровень значимости альфа\n",
    "alpha = 0.05"
   ]
  },
  {
   "cell_type": "markdown",
   "metadata": {},
   "source": [
    "Незначимость модели можно оценить с помощью F-теста: \n",
    "$$ F_{model} = \\dfrac{ESS/(k-1)}{RSS/(n-k)} \\sim F_{k-1,n-k} $$\n",
    "\n",
    "где $ ESS = TSS - RSS $\n",
    "\n",
    "Нулевая гипотеза: $$ H_0: \\beta_1 = \\beta_2 = \\beta_3 = 0 $$\n",
    "\n",
    "отвергаеется, если $ F_{model} > F_{k-1,n-k} $"
   ]
  },
  {
   "cell_type": "code",
   "execution_count": 23,
   "metadata": {},
   "outputs": [],
   "source": [
    "TSS = np.sum((y - data['Всего смертей'].mean())**2)\n",
    "\n",
    "y_predict = model.intercept_ + x.dot(model.coef_)\n",
    "RSS = np.sum((y - y_predict)**2)"
   ]
  },
  {
   "cell_type": "code",
   "execution_count": 26,
   "metadata": {},
   "outputs": [],
   "source": [
    "from scipy.stats import f\n",
    "\n",
    "F_model = ((TSS - RSS)/(k - 1))/(RSS/(n - k))\n",
    "F = f.ppf(1 - alpha, k-1, n-k)"
   ]
  },
  {
   "cell_type": "code",
   "execution_count": 27,
   "metadata": {},
   "outputs": [
    {
     "name": "stdout",
     "output_type": "stream",
     "text": [
      "98.70261333201977 2.6771069890604258\n"
     ]
    }
   ],
   "source": [
    "print(F_model, F)"
   ]
  },
  {
   "cell_type": "markdown",
   "metadata": {},
   "source": [
    "Получили, что $ F_{model} > F_{k-1,n-k} $, т.е. гипотеза о незначимости регресси отвергается."
   ]
  }
 ],
 "metadata": {
  "kernelspec": {
   "display_name": "Python 3",
   "language": "python",
   "name": "python3"
  },
  "language_info": {
   "codemirror_mode": {
    "name": "ipython",
    "version": 3
   },
   "file_extension": ".py",
   "mimetype": "text/x-python",
   "name": "python",
   "nbconvert_exporter": "python",
   "pygments_lexer": "ipython3",
   "version": "3.7.4"
  }
 },
 "nbformat": 4,
 "nbformat_minor": 2
}
