{
 "cells": [
  {
   "cell_type": "code",
   "execution_count": 2,
   "metadata": {},
   "outputs": [],
   "source": [
    "import numpy as np\n",
    "import pandas as pd\n",
    "import matplotlib.pyplot as plt\n",
    "%matplotlib inline\n",
    "\n",
    "import seaborn as sns\n",
    "sns.set(style=\"ticks\", color_codes=True)\n",
    "import math\n",
    "\n",
    "import sklearn.linear_model as slmodel\n",
    "from sklearn import datasets"
   ]
  },
  {
   "cell_type": "markdown",
   "metadata": {},
   "source": [
    "# Задача 2."
   ]
  },
  {
   "cell_type": "markdown",
   "metadata": {},
   "source": [
    "###  Использую $ Boston \\, housing \\, dataset $, имеющий размерность (506, 13), т.е. $ n =  506, k = 13, n-k = 493 $"
   ]
  },
  {
   "cell_type": "code",
   "execution_count": 67,
   "metadata": {},
   "outputs": [],
   "source": [
    "x, y = datasets.load_boston(return_X_y=True)"
   ]
  },
  {
   "cell_type": "code",
   "execution_count": 68,
   "metadata": {},
   "outputs": [
    {
     "data": {
      "text/plain": [
       "(36.459488385089855,\n",
       " array([-1.08011358e-01,  4.64204584e-02,  2.05586264e-02,  2.68673382e+00,\n",
       "        -1.77666112e+01,  3.80986521e+00,  6.92224640e-04, -1.47556685e+00,\n",
       "         3.06049479e-01, -1.23345939e-02, -9.52747232e-01,  9.31168327e-03,\n",
       "        -5.24758378e-01]))"
      ]
     },
     "execution_count": 68,
     "metadata": {},
     "output_type": "execute_result"
    }
   ],
   "source": [
    "model = slmodel.LinearRegression()\n",
    "model.fit(x, y)\n",
    "model.intercept_, model.coef_"
   ]
  },
  {
   "cell_type": "markdown",
   "metadata": {},
   "source": [
    "### Выберу 1 компоненту $ x $ и посмотрю на график зависимости  $ y(x_1) $ "
   ]
  },
  {
   "cell_type": "code",
   "execution_count": 69,
   "metadata": {},
   "outputs": [
    {
     "data": {
      "image/png": "[encoded data removed]",
      "text/plain": [
       "<Figure size 864x576 with 1 Axes>"
      ]
     },
     "metadata": {
      "needs_background": "light"
     },
     "output_type": "display_data"
    }
   ],
   "source": [
    "%matplotlib inline\n",
    "\n",
    "plt.figure(figsize=(12, 8))\n",
    "plt.scatter(x[:,1], y, label='Наши данные',  lw=1.0, color = 'b')\n",
    "plt.xlabel(\"$x_1$\", fontsize=12)\n",
    "plt.ylabel(\"$y$\", fontsize=12)\n",
    "plt.title('График', fontsize=22)\n",
    "#plt.legend(loc='best', frameon=True, fontsize=18) \n",
    "plt.grid()\n",
    "plt.show()"
   ]
  },
  {
   "cell_type": "markdown",
   "metadata": {},
   "source": [
    "### Доверительный интервал для неё ищем по форуле: \n",
    "\n",
    "$$ [\\hat{\\beta}_{OLC,1} - t_{c}s_{\\hat{\\beta_1}}, \\hat{\\beta}_{OLC,1} + t_{c}s_{\\hat{\\beta_1}}]$$"
   ]
  },
  {
   "cell_type": "code",
   "execution_count": 71,
   "metadata": {},
   "outputs": [
    {
     "name": "stdout",
     "output_type": "stream",
     "text": [
      "Доверительный интервал: [0.019483657123021456, 0.07335725961073761]\n"
     ]
    }
   ],
   "source": [
    "from scipy import stats\n",
    "\n",
    "  \n",
    "t_c = stats.t.ppf(1-0.05/2, 493)\n",
    "    \n",
    "#model = slmodel.LinearRegression()\n",
    "#model.fit(x, y)\n",
    "    \n",
    "e = y - model.predict(x)\n",
    "s_b_1 = math.sqrt(np.transpose(e).dot(e)*(np.linalg.inv((np.transpose(x).dot(x)))[1,1])/493)\n",
    "    \n",
    "t_1 = model.coef_[1] - t_c*s_b_1\n",
    "t_2 = model.coef_[1] + t_c*s_b_1\n",
    "\n",
    "print('Доверительный интервал: [{}, {}]'.format(t_1, t_2))"
   ]
  },
  {
   "cell_type": "markdown",
   "metadata": {},
   "source": [
    "### Проверим гипотезу, что $\\beta_1 = 0$:   Сравним $ |t| = \\frac{\\hat{\\beta}_{OLC,1}}{s_{\\hat{\\beta_1}}}$ и $ t_c $ "
   ]
  },
  {
   "cell_type": "code",
   "execution_count": 72,
   "metadata": {},
   "outputs": [
    {
     "name": "stdout",
     "output_type": "stream",
     "text": [
      "1.421150424206148\n"
     ]
    }
   ],
   "source": [
    "print(model.coef_[1]/s_b_1 - t_c)"
   ]
  },
  {
   "cell_type": "markdown",
   "metadata": {},
   "source": [
    "Видим, что гипотеза отвергается. На уровне значимости $ 𝛼=0.05 $"
   ]
  },
  {
   "cell_type": "markdown",
   "metadata": {},
   "source": [
    "### Построим доверительный интервал для $ \\sigma^2 $, учитывая, что $(n-k)\\frac{s^2}{\\sigma^2}$ распределено как $\\chi^2(n-k)$"
   ]
  },
  {
   "cell_type": "code",
   "execution_count": 101,
   "metadata": {},
   "outputs": [
    {
     "name": "stdout",
     "output_type": "stream",
     "text": [
      "0.0005687245369110267 0.0006486872543093234\n"
     ]
    }
   ],
   "source": [
    "s2 = np.transpose(e).dot(e)/493\n",
    "t_1 = 493*s2/stats.chi2.ppf(1-0.95/2, 493)\n",
    "t_2 = 493*s2/stats.chi2.ppf(0.05/2, 493)\n",
    "\n",
    "print(t_1, t_2)"
   ]
  },
  {
   "cell_type": "code",
   "execution_count": null,
   "metadata": {},
   "outputs": [],
   "source": []
  },
  {
   "cell_type": "markdown",
   "metadata": {},
   "source": [
    "# Задача 1."
   ]
  },
  {
   "cell_type": "markdown",
   "metadata": {},
   "source": [
    "### *первую часть задачи отправлял еще с прошлым дз, поэтому здесь будет только вторая"
   ]
  },
  {
   "cell_type": "code",
   "execution_count": 84,
   "metadata": {},
   "outputs": [
    {
     "data": {
      "text/plain": [
       "(0.27873865579376567, array([ 0.12287913, -0.02940725]))"
      ]
     },
     "execution_count": 84,
     "metadata": {},
     "output_type": "execute_result"
    }
   ],
   "source": [
    "y = np.array([3, 6, 5, 3.5, 1.5])\n",
    "x = np.array([[40, 60], [55, 36], [45, 36], [30, 15], [30, 90]])\n",
    "\n",
    "model_2 = slmodel.LinearRegression()\n",
    "model_2.fit(x, y)\n",
    "model_2.intercept_, model_2.coef_"
   ]
  },
  {
   "cell_type": "markdown",
   "metadata": {},
   "source": [
    "## а)"
   ]
  },
  {
   "cell_type": "markdown",
   "metadata": {},
   "source": [
    "### 1)$\\beta_2, \\beta_3, q=2$"
   ]
  },
  {
   "cell_type": "markdown",
   "metadata": {},
   "source": [
    "### Линейное ограничение общего вида: $H\\beta = r$"
   ]
  },
  {
   "cell_type": "code",
   "execution_count": 154,
   "metadata": {},
   "outputs": [],
   "source": [
    "### Функция линейного ограничения (доверительного интервала):\n",
    "\n",
    "def lr(H, x, beta): \n",
    "    A = H.T@np.linalg.inv((H@np.linalg.inv((x.T@x))@H.T))@H\n",
    "    return A"
   ]
  },
  {
   "cell_type": "code",
   "execution_count": 93,
   "metadata": {},
   "outputs": [
    {
     "name": "stdout",
     "output_type": "stream",
     "text": [
      "0.1874150554605635\n",
      "[[ 8450.  9150.]\n",
      " [ 9150. 14517.]]\n"
     ]
    }
   ],
   "source": [
    "H = np.array([[1, 0], [0, 1]])\n",
    "A = lr(H, x, model_2.coef_)\n",
    "e = y - model_2.predict(x)\n",
    "c = (e.T@e)*2/3\n",
    "\n",
    "print(c)\n",
    "print(A)"
   ]
  },
  {
   "cell_type": "markdown",
   "metadata": {},
   "source": [
    "Условие доверительного интервала: \n",
    "$$ (\\hat{\\beta} - \\beta)'A (\\hat{\\beta} - \\beta) \\in [0; 19.16\\cdot c] $$ \n",
    "\n",
    "где $19.16$ - квантиль уровня $0.05$ у $F_{2,3}$."
   ]
  },
  {
   "cell_type": "markdown",
   "metadata": {},
   "source": [
    "### 2)$\\beta_2,  q=1$, $216$ (квантиль уровня $0.05$ у $F_{1,3}$)"
   ]
  },
  {
   "cell_type": "code",
   "execution_count": 97,
   "metadata": {},
   "outputs": [
    {
     "name": "stdout",
     "output_type": "stream",
     "text": [
      "0.09370752773028175\n",
      "[[2682.79603224    0.        ]\n",
      " [   0.            0.        ]]\n"
     ]
    }
   ],
   "source": [
    "H = np.array([[ 1, 0]])\n",
    "\n",
    "A = lr(H, x, model_2.coef_)\n",
    "e = y - model_2.predict(x)\n",
    "c = (e.T@e)*1/3\n",
    "print(c)\n",
    "print(A)"
   ]
  },
  {
   "cell_type": "code",
   "execution_count": 100,
   "metadata": {},
   "outputs": [
    {
     "name": "stdout",
     "output_type": "stream",
     "text": [
      "Искомый доверительный интервал: [-0.0299206016818756, -0.02889390136516724]\n"
     ]
    }
   ],
   "source": [
    "t_1 = model_2.coef_[1] - math.sqrt(216)*c/A[0,0]\n",
    "t_2 = model_2.coef_[1] + math.sqrt(216)*c/A[0,0]\n",
    "\n",
    "print('Искомый доверительный интервал: [{}, {}]'.format(t_1, t_2))"
   ]
  },
  {
   "cell_type": "markdown",
   "metadata": {},
   "source": [
    "### 3) $\\beta_3,  q=1$, $216$ (квантиль уровня $0.05$ у $F_{1,3}$)"
   ]
  },
  {
   "cell_type": "code",
   "execution_count": 102,
   "metadata": {},
   "outputs": [
    {
     "name": "stdout",
     "output_type": "stream",
     "text": [
      "0.09370752773028175\n",
      "[[   0.            0.        ]\n",
      " [   0.         4609.01183432]]\n"
     ]
    }
   ],
   "source": [
    "H = np.array([[0, 1]])\n",
    "\n",
    "A = lr(H, x, model_2.coef_)\n",
    "e = y - model_2.predict(x)\n",
    "c = (e.T@e)*1/3\n",
    "print(c)\n",
    "print(A)"
   ]
  },
  {
   "cell_type": "code",
   "execution_count": 103,
   "metadata": {},
   "outputs": [
    {
     "name": "stdout",
     "output_type": "stream",
     "text": [
      "Искомый доверительный интервал: [-0.029706060426055884, -0.029108442620986955]\n"
     ]
    }
   ],
   "source": [
    "t_1 = model_2.coef_[1] - math.sqrt(216)*c/A[1,1]\n",
    "t_2 = model_2.coef_[1] + math.sqrt(216)*c/A[1,1]\n",
    "\n",
    "print('Искомый доверительный интервал: [{}, {}]'.format(t_1, t_2))"
   ]
  },
  {
   "cell_type": "markdown",
   "metadata": {},
   "source": [
    "### 4) $\\beta_1, \\beta_2, q=2$"
   ]
  },
  {
   "cell_type": "code",
   "execution_count": 111,
   "metadata": {},
   "outputs": [
    {
     "data": {
      "text/plain": [
       "LinearRegression(copy_X=True, fit_intercept=True, n_jobs=None, normalize=False)"
      ]
     },
     "execution_count": 111,
     "metadata": {},
     "output_type": "execute_result"
    }
   ],
   "source": [
    "H = np.array([[1, 0, 0], [0, 1, 0]])\n",
    "a = np.array([[1], [1], [1], [1], [1]])\n",
    "\n",
    "#x = np.array([[40, 60], [55, 36], [45, 36], [30, 15], [30, 90]])\n",
    "x = np.hstack((a, x))\n",
    "\n",
    "model_2.fit(x, y)"
   ]
  },
  {
   "cell_type": "code",
   "execution_count": 112,
   "metadata": {},
   "outputs": [
    {
     "name": "stdout",
     "output_type": "stream",
     "text": [
      "0.18741505546056367\n",
      "[[1.13081215e+00 5.06199628e+01 0.00000000e+00]\n",
      " [5.06199628e+01 2.68279603e+03 0.00000000e+00]\n",
      " [0.00000000e+00 0.00000000e+00 0.00000000e+00]]\n"
     ]
    }
   ],
   "source": [
    "A = lr(H, x, model_2.coef_)\n",
    "e = y - model_2.predict(x)\n",
    "c = (e.T@e)*2/3\n",
    "print(c)\n",
    "print(A)"
   ]
  },
  {
   "cell_type": "markdown",
   "metadata": {},
   "source": [
    "Условие доверительного интервала: \n",
    "$$ (\\hat{\\beta} - \\beta)'A (\\hat{\\beta} - \\beta) \\in [0; 19.16\\cdot c] $$ \n",
    "\n",
    "где $19.16$ - квантиль уровня $0.05$ у $F_{2,3}$."
   ]
  },
  {
   "cell_type": "markdown",
   "metadata": {},
   "source": [
    "## б)"
   ]
  },
  {
   "cell_type": "markdown",
   "metadata": {},
   "source": [
    "### 1) $\\beta_2 = 0, \\beta_3 = 0.$"
   ]
  },
  {
   "cell_type": "code",
   "execution_count": 115,
   "metadata": {},
   "outputs": [
    {
     "name": "stdout",
     "output_type": "stream",
     "text": [
      "0.1874150554605635\n",
      "[[ 8450.  9150.]\n",
      " [ 9150. 14517.]]\n"
     ]
    }
   ],
   "source": [
    "H = np.array([[ 1, 0], [ 0, 1]])\n",
    "x = np.array([[40, 60], [55, 36], [45, 36], [30, 15], [30, 90]])\n",
    "model_2.fit(x, y)\n",
    "A = lr(H, x, model_2.coef_)\n",
    "e = y - model_2.predict(x)\n",
    "c = (e.T@e)*2/3\n",
    "print(c)\n",
    "print(A)"
   ]
  },
  {
   "cell_type": "code",
   "execution_count": 126,
   "metadata": {},
   "outputs": [
    {
     "name": "stdout",
     "output_type": "stream",
     "text": [
      "False\n"
     ]
    }
   ],
   "source": [
    "print(model_2.coef_.T@A@model_2.coef_ < 19.16*c)"
   ]
  },
  {
   "cell_type": "markdown",
   "metadata": {},
   "source": [
    "Условие не выполняется $ \\Rightarrow $ отвергаем гипотезу"
   ]
  },
  {
   "cell_type": "markdown",
   "metadata": {},
   "source": [
    "### 2) $ \\beta_3 = 0.$"
   ]
  },
  {
   "cell_type": "code",
   "execution_count": 122,
   "metadata": {},
   "outputs": [
    {
     "name": "stdout",
     "output_type": "stream",
     "text": [
      "0.09370752773028175\n",
      "[[   0.            0.        ]\n",
      " [   0.         4609.01183432]]\n"
     ]
    }
   ],
   "source": [
    "H = np.array([[0, 1]])\n",
    "x = np.array([[40, 60], [55, 36], [45, 36], [30, 15], [30, 90]])\n",
    "\n",
    "model_2.fit(x, y)\n",
    "A = lr(H, x, model_2.coef_)\n",
    "e = y - model_2.predict(x)\n",
    "c = (e.T@e)*1/3\n",
    "print(c)\n",
    "print(A)"
   ]
  },
  {
   "cell_type": "code",
   "execution_count": 128,
   "metadata": {},
   "outputs": [
    {
     "name": "stdout",
     "output_type": "stream",
     "text": [
      "True\n"
     ]
    }
   ],
   "source": [
    "print(model_2.coef_.T@A@model_2.coef_ < 216*c)"
   ]
  },
  {
   "cell_type": "markdown",
   "metadata": {},
   "source": [
    "$ \\Rightarrow $ не отвергаем гипотезу"
   ]
  },
  {
   "cell_type": "markdown",
   "metadata": {},
   "source": [
    "### 3) $ \\beta_2 = 0.$"
   ]
  },
  {
   "cell_type": "code",
   "execution_count": 129,
   "metadata": {},
   "outputs": [
    {
     "name": "stdout",
     "output_type": "stream",
     "text": [
      "0.09370752773028175\n",
      "[[2682.79603224    0.        ]\n",
      " [   0.            0.        ]]\n"
     ]
    }
   ],
   "source": [
    "H = np.array([[1, 0]])\n",
    "\n",
    "A = lr(H, x, model_2.coef_)\n",
    "e = y - model_2.predict(x)\n",
    "c = (e.T@e)*1/3\n",
    "print(c)\n",
    "print(A)"
   ]
  },
  {
   "cell_type": "code",
   "execution_count": 130,
   "metadata": {},
   "outputs": [
    {
     "name": "stdout",
     "output_type": "stream",
     "text": [
      "False\n"
     ]
    }
   ],
   "source": [
    "print(model_2.coef_.T@A@model_2.coef_ < 216*c)"
   ]
  },
  {
   "cell_type": "markdown",
   "metadata": {},
   "source": [
    "Условие не выполняется $ \\Rightarrow $ отвергаем гипотезу"
   ]
  },
  {
   "cell_type": "markdown",
   "metadata": {},
   "source": [
    "### 4) $ \\beta_2 = 1.$"
   ]
  },
  {
   "cell_type": "code",
   "execution_count": 131,
   "metadata": {},
   "outputs": [
    {
     "name": "stdout",
     "output_type": "stream",
     "text": [
      "0.09370752773028175\n",
      "[[2682.79603224    0.        ]\n",
      " [   0.            0.        ]]\n"
     ]
    }
   ],
   "source": [
    "H = np.array([[ 1, 0]])\n",
    "\n",
    "A = lr(H, x, model_2.coef_)\n",
    "e = y - model_2.predict(x)\n",
    "c = (e.T@e)*1/3\n",
    "print(c)\n",
    "print(A)\n",
    "\n",
    "coef = model_2.coef_ - [1, 0]"
   ]
  },
  {
   "cell_type": "code",
   "execution_count": 133,
   "metadata": {},
   "outputs": [
    {
     "name": "stdout",
     "output_type": "stream",
     "text": [
      "False\n"
     ]
    }
   ],
   "source": [
    "print(coef.T@A@coef < 216*c)"
   ]
  },
  {
   "cell_type": "markdown",
   "metadata": {},
   "source": [
    "Условие не выполняется $ \\Rightarrow $ отвергаем гипотезу"
   ]
  },
  {
   "cell_type": "markdown",
   "metadata": {},
   "source": [
    "### 5) $ \\beta_2 = 1.57$"
   ]
  },
  {
   "cell_type": "code",
   "execution_count": 137,
   "metadata": {},
   "outputs": [
    {
     "name": "stdout",
     "output_type": "stream",
     "text": [
      "0.09370752773028175\n",
      "[[2682.79603224    0.        ]\n",
      " [   0.            0.        ]]\n"
     ]
    }
   ],
   "source": [
    "H = np.array([[1, 0]])\n",
    "\n",
    "A = lr(H, x, model_2.coef_)\n",
    "e = y - model_2.predict(x)\n",
    "c = (e.T@e)*1/3\n",
    "print(c)\n",
    "print(A)\n",
    "\n",
    "coef = model_2.coef_ - [1.57, 0]"
   ]
  },
  {
   "cell_type": "code",
   "execution_count": 138,
   "metadata": {},
   "outputs": [
    {
     "name": "stdout",
     "output_type": "stream",
     "text": [
      "False\n"
     ]
    }
   ],
   "source": [
    "print(coef.T@A@coef < 216*c)"
   ]
  },
  {
   "cell_type": "markdown",
   "metadata": {},
   "source": [
    "Условие не выполняется $ \\Rightarrow $ отвергаем гипотезу"
   ]
  },
  {
   "cell_type": "markdown",
   "metadata": {},
   "source": [
    "### 6) $\\beta_2 = -5\\beta_3$"
   ]
  },
  {
   "cell_type": "code",
   "execution_count": 141,
   "metadata": {},
   "outputs": [
    {
     "name": "stdout",
     "output_type": "stream",
     "text": [
      "0.09370752773028175\n",
      "[[ 122.75512423 -613.77562116]\n",
      " [-613.77562116 3068.87810582]]\n"
     ]
    }
   ],
   "source": [
    "H = np.array([[ 1, -5]])\n",
    "\n",
    "A = lr(H, x, model_2.coef_)\n",
    "e = y - model_2.predict(x)\n",
    "c = (e.T@e)*1/3\n",
    "print(c)\n",
    "print(A)"
   ]
  },
  {
   "cell_type": "markdown",
   "metadata": {},
   "source": [
    "Найдем значения $\\beta_2, \\beta_3 $: $\\beta_2 = -5\\beta_3$, которые минимизируют функцию $(\\hat{\\beta} - \\beta)'A (\\hat{\\beta} - \\beta)$"
   ]
  },
  {
   "cell_type": "code",
   "execution_count": 143,
   "metadata": {},
   "outputs": [],
   "source": [
    "give_minimum = (-model_2.coef_[0]*(A[0,0]+A[1,0]) - model_2.coef_[1]*(A[0,1]+A[1,1]))/((A[0,0]+A[1,0]) -5*(A[0,1]+A[1,1]))\n",
    "\n",
    "coef = model_2.coef_ - [ give_minimum, -5*give_minimum]"
   ]
  },
  {
   "cell_type": "code",
   "execution_count": 144,
   "metadata": {},
   "outputs": [
    {
     "name": "stdout",
     "output_type": "stream",
     "text": [
      "False\n"
     ]
    }
   ],
   "source": [
    "print(coef.T@A@coef < 216*c)"
   ]
  },
  {
   "cell_type": "markdown",
   "metadata": {},
   "source": [
    "Т.к. даже при минимальном значении фунцкции $(\\hat{\\beta} - \\beta)'A (\\hat{\\beta} - \\beta)$ при условии $\\beta_2 = -5\\beta_3$ гипотеза отвергается, то она отвергается всегда на уровне значимости $ \\alpha = 0.05 $"
   ]
  },
  {
   "cell_type": "markdown",
   "metadata": {},
   "source": [
    "## в)"
   ]
  },
  {
   "cell_type": "markdown",
   "metadata": {},
   "source": [
    "### 1)"
   ]
  },
  {
   "cell_type": "code",
   "execution_count": 147,
   "metadata": {},
   "outputs": [
    {
     "data": {
      "text/plain": [
       "LinearRegression(copy_X=True, fit_intercept=True, n_jobs=None, normalize=False)"
      ]
     },
     "execution_count": 147,
     "metadata": {},
     "output_type": "execute_result"
    }
   ],
   "source": [
    "#снова обучаем модель\n",
    "y = np.array([3, 6, 5, 3.5, 1.5])\n",
    "x = np.array([[40, 60], [55, 36], [45, 36], [30, 15], [30, 90]])\n",
    "model_2.fit(x, y)"
   ]
  },
  {
   "cell_type": "code",
   "execution_count": 149,
   "metadata": {},
   "outputs": [
    {
     "name": "stdout",
     "output_type": "stream",
     "text": [
      "Проноз: 2.4212317506247536\n"
     ]
    }
   ],
   "source": [
    "print('Проноз: {}'.format(model_2.intercept_ + model_2.coef_[0]*30 + model_2.coef_[1]*52.5))"
   ]
  },
  {
   "cell_type": "markdown",
   "metadata": {},
   "source": [
    "### 2)"
   ]
  },
  {
   "cell_type": "markdown",
   "metadata": {},
   "source": [
    "Ответ не является средним значением между накоплением семей 4 и 5, т.к. модель строилась не только по этим двум семьям, а так же и по другим трем, которые вносят в эту модель свои коррективы"
   ]
  },
  {
   "cell_type": "markdown",
   "metadata": {},
   "source": [
    "### 3) Доверительный интервал:"
   ]
  },
  {
   "cell_type": "code",
   "execution_count": 153,
   "metadata": {},
   "outputs": [
    {
     "name": "stdout",
     "output_type": "stream",
     "text": [
      "Доверительный интервал: [0.47123175062475364, 4.371231750624753]\n"
     ]
    }
   ],
   "source": [
    "t_1 = model_2.intercept_ + model_2.coef_[0]*30 + model_2.coef_[1]*52.5 - 1.95\n",
    "t_2 = model_2.intercept_ + model_2.coef_[0]*30 + model_2.coef_[1]*52.5 + 1.95\n",
    "print('Доверительный интервал: [{}, {}]'.format(t_1, t_2))"
   ]
  },
  {
   "cell_type": "code",
   "execution_count": null,
   "metadata": {},
   "outputs": [],
   "source": []
  }
 ],
 "metadata": {
  "kernelspec": {
   "display_name": "Python 3",
   "language": "python",
   "name": "python3"
  },
  "language_info": {
   "codemirror_mode": {
    "name": "ipython",
    "version": 3
   },
   "file_extension": ".py",
   "mimetype": "text/x-python",
   "name": "python",
   "nbconvert_exporter": "python",
   "pygments_lexer": "ipython3",
   "version": "3.7.4"
  }
 },
 "nbformat": 4,
 "nbformat_minor": 2
}
